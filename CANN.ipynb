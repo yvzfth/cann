{
  "cells": [
    {
      "cell_type": "markdown",
      "metadata": {
        "id": "WPAue7l-Ofrs"
      },
      "source": [
        "# Composite Artifical Neural Networks"
      ]
    },
    {
      "cell_type": "markdown",
      "metadata": {
        "id": "N-Al3agJOsJv"
      },
      "source": [
        "*   20202022020 Fatih Yavuz"
      ]
    },
    {
      "cell_type": "markdown",
      "metadata": {
        "id": "qupbd-4PXNlM"
      },
      "source": [
        "In this project, we developed a composite artificial neural network model to predict the shape of given images. The model was trained on a dataset consisting of circles, triangles, squares, and hexagons. We aimed to accurately classify the shapes of the images using both the image data and corresponding input sequences.\n",
        "\n",
        "After training the model and evaluating its performance, we made predictions on a set of test images. The model successfully predicted the shapes of most of the images correctly, with the majority of the labels matching the ground truth."
      ]
    },
    {
      "cell_type": "code",
      "execution_count": null,
      "metadata": {
        "id": "o-B3A4jaEfJC"
      },
      "outputs": [],
      "source": [
        "import matplotlib.pyplot as plt\n",
        "import cv2\n",
        "import numpy as np\n",
        "import math\n",
        "import random\n",
        "from keras.models import Model\n",
        "from keras.layers import Input, Dense, Embedding, Conv2D, MaxPooling2D, Flatten, LSTM, concatenate\n",
        "from keras.utils import to_categorical"
      ]
    },
    {
      "cell_type": "markdown",
      "metadata": {
        "id": "IKShvzjdOURh"
      },
      "source": [
        "To generate a random RGB color within the range of 0 to 200 for each channel (red, green, and blue)"
      ]
    },
    {
      "cell_type": "code",
      "execution_count": null,
      "metadata": {
        "id": "bht7C3X5CBLL"
      },
      "outputs": [],
      "source": [
        "def generate_random_color():\n",
        "    r = random.randint(0, 200)\n",
        "    g = random.randint(0, 200)\n",
        "    b = random.randint(0, 200)\n",
        "    \n",
        "    return r, g, b"
      ]
    },
    {
      "cell_type": "markdown",
      "metadata": {
        "id": "iYHuZQTBO4Wf"
      },
      "source": [
        "Dataset image sizes 256x256, Number of samples for each shape"
      ]
    },
    {
      "cell_type": "code",
      "execution_count": null,
      "metadata": {
        "id": "9mbfQ8yeOKxL"
      },
      "outputs": [],
      "source": [
        "image_size = (256, 256)\n",
        "\n",
        "num_samples = 1000"
      ]
    },
    {
      "cell_type": "markdown",
      "metadata": {
        "id": "T0JhoB45QTq0"
      },
      "source": [
        "Generate circle images"
      ]
    },
    {
      "cell_type": "code",
      "execution_count": null,
      "metadata": {
        "id": "cKDGlyzM4TAv"
      },
      "outputs": [],
      "source": [
        "circle_images = []\n",
        "for _ in range(num_samples):\n",
        "    # Create a blank white image\n",
        "    image = np.ones((image_size[0], image_size[1], 3), dtype=np.uint8) * 255\n",
        "\n",
        "    # Generate random center and radius for the circle\n",
        "    center = np.random.randint(70, image_size[0] - 150, size=2)\n",
        "    radius = np.random.randint(30, min(image_size[0], image_size[1]) // 2 - 50)\n",
        "\n",
        "    # Draw the circle on the image\n",
        "    cv2.circle(image, tuple(center), radius, generate_random_color(), -1)\n",
        "\n",
        "    # Append the generated circle image to the dataset\n",
        "    circle_images.append(image)\n"
      ]
    },
    {
      "cell_type": "markdown",
      "metadata": {
        "id": "eOg33cuvQkbL"
      },
      "source": [
        "Generate triangle images"
      ]
    },
    {
      "cell_type": "code",
      "execution_count": null,
      "metadata": {
        "id": "JNJwY7wZOIE4"
      },
      "outputs": [],
      "source": [
        "triangle_images = []\n",
        "for _ in range(num_samples):\n",
        "    # Create a blank white image\n",
        "    image = np.ones((image_size[0], image_size[1], 3), dtype=np.uint8) * 255\n",
        "\n",
        "    # Generate random coordinates for the triangle vertices\n",
        "    pt1 = np.random.randint(10, image_size[0] - 10, size=2)\n",
        "    pt2 = np.random.randint(10, image_size[0] - 10, size=2)\n",
        "    pt3 = np.random.randint(10, image_size[0] - 10, size=2)\n",
        "\n",
        "    # Draw the triangle on the image\n",
        "    cv2.drawContours(image, [np.array([pt1, pt2, pt3])], 0, generate_random_color(), -1)\n",
        "\n",
        "    # Append the generated triangle image to the dataset\n",
        "    triangle_images.append(image)\n"
      ]
    },
    {
      "cell_type": "markdown",
      "metadata": {
        "id": "DFLIX84xRDzd"
      },
      "source": [
        "Generate square images"
      ]
    },
    {
      "cell_type": "code",
      "execution_count": null,
      "metadata": {
        "id": "FGycC431DYS-"
      },
      "outputs": [],
      "source": [
        "square_images = []\n",
        "for _ in range(num_samples):\n",
        "    # Create a blank white image\n",
        "    image = np.ones((image_size[0], image_size[1], 3), dtype=np.uint8) * 255\n",
        "\n",
        "    # Generate random top-left corner coordinates and side length for the square\n",
        "    top_left = np.random.randint(50, image_size[0] - 150, size=2)\n",
        "    side_length = np.random.randint(50, min(image_size[0], image_size[1]) // 2 - 50)\n",
        "\n",
        "    # Calculate the bottom-right corner coordinates\n",
        "    bottom_right = top_left + side_length\n",
        "\n",
        "    # Draw the square on the image\n",
        "    cv2.rectangle(image, tuple(top_left), tuple(bottom_right), generate_random_color(), -1)\n",
        "\n",
        "    # Append the generated square image to the dataset\n",
        "    square_images.append(image)"
      ]
    },
    {
      "cell_type": "markdown",
      "metadata": {
        "id": "pUIFetyHQrzf"
      },
      "source": [
        "Generate hexagon images"
      ]
    },
    {
      "cell_type": "code",
      "execution_count": null,
      "metadata": {
        "id": "verwb59UEF1r"
      },
      "outputs": [],
      "source": [
        "hexagon_images = []\n",
        "for _ in range(num_samples):\n",
        "    # Create a blank white image\n",
        "    image = np.ones((image_size[0], image_size[1], 3), dtype=np.uint8) * 255\n",
        "\n",
        "    # Generate random center and side length for the hexagon\n",
        "    center = np.random.randint(50, image_size[0] - 100, size=2)\n",
        "    side_length = np.random.randint(30, min(image_size[0], image_size[1]) // 2 - 50)\n",
        "\n",
        "    # Calculate the vertices of the hexagon\n",
        "    vertices = []\n",
        "    for i in range(6):\n",
        "        angle_deg = 60 * i\n",
        "        angle_rad = math.radians(angle_deg)\n",
        "        x = int(center[0] + side_length * math.cos(angle_rad))\n",
        "        y = int(center[1] + side_length * math.sin(angle_rad))\n",
        "        vertices.append((x, y))\n",
        "\n",
        "    # Draw the hexagon on the image\n",
        "    cv2.fillPoly(image, [np.array(vertices)], generate_random_color())\n",
        "\n",
        "    # Append the generated hexagon image to the dataset\n",
        "    hexagon_images.append(image)"
      ]
    },
    {
      "cell_type": "markdown",
      "metadata": {
        "id": "IvoZ5g0tAtH0"
      },
      "source": [
        "Load shapes dataset\n",
        "X_train and y_train represent the input images and their corresponding labels, respectively"
      ]
    },
    {
      "cell_type": "code",
      "execution_count": null,
      "metadata": {
        "id": "ezsLIPSxH8d1"
      },
      "outputs": [],
      "source": [
        "# Combine the circle and triangle datasets\n",
        "X_train = np.array(circle_images + triangle_images + square_images + hexagon_images)"
      ]
    },
    {
      "cell_type": "markdown",
      "metadata": {
        "id": "DUZoB9BxQ9dD"
      },
      "source": [
        "Display the hexagon image"
      ]
    },
    {
      "cell_type": "code",
      "execution_count": null,
      "metadata": {
        "colab": {
          "base_uri": "https://localhost:8080/",
          "height": 406
        },
        "id": "cvTOV7eFEQZL",
        "outputId": "cc1851bc-3f20-4e27-cf51-ddab9a740b56"
      },
      "outputs": [
        {
          "data": {
            "image/png": "[encoded data removed]",
            "text/plain": [
              "<Figure size 640x480 with 1 Axes>"
            ]
          },
          "metadata": {},
          "output_type": "display_data"
        }
      ],
      "source": [
        " # Create a blank white image\n",
        "image = np.ones((image_size[0], image_size[1], 3), dtype=np.uint8) * 255\n",
        "\n",
        "# Generate random center and side length for the hexagon\n",
        "center = np.random.randint(50, image_size[0] - 100, size=2)\n",
        "side_length = np.random.randint(30, min(image_size[0], image_size[1]) // 2 - 50)\n",
        "\n",
        "# Calculate the vertices of the hexagon\n",
        "vertices = []\n",
        "for i in range(6):\n",
        "    angle_deg = 60 * i\n",
        "    angle_rad = math.radians(angle_deg)\n",
        "    x = int(center[0] + side_length * math.cos(angle_rad))\n",
        "    y = int(center[1] + side_length * math.sin(angle_rad))\n",
        "    vertices.append((x, y))\n",
        "\n",
        "# Draw the hexagon on the image\n",
        "cv2.fillPoly(image, [np.array(vertices)], generate_random_color())\n",
        "# Display the image\n",
        "plt.imshow(image)\n",
        "plt.axis('off')\n",
        "plt.show()"
      ]
    },
    {
      "cell_type": "markdown",
      "metadata": {
        "id": "SvLJRt7bQ57y"
      },
      "source": [
        "Display the square image"
      ]
    },
    {
      "cell_type": "code",
      "execution_count": null,
      "metadata": {
        "colab": {
          "base_uri": "https://localhost:8080/",
          "height": 406
        },
        "id": "UFg_JkgeDbTE",
        "outputId": "2b6eb24a-bab0-4d55-e372-1ec4b5a191f9"
      },
      "outputs": [
        {
          "data": {
            "image/png": "[encoded data removed]",
            "text/plain": [
              "<Figure size 640x480 with 1 Axes>"
            ]
          },
          "metadata": {},
          "output_type": "display_data"
        }
      ],
      "source": [
        " # Create a blank white image\n",
        "image = np.ones((image_size[0], image_size[1], 3), dtype=np.uint8) * 255\n",
        "\n",
        "# Generate random top-left corner coordinates and side length for the square\n",
        "top_left = np.random.randint(50, image_size[0] - 150, size=2)\n",
        "side_length = np.random.randint(50, min(image_size[0], image_size[1]) // 2 - 50)\n",
        "\n",
        "# Calculate the bottom-right corner coordinates\n",
        "bottom_right = top_left + side_length\n",
        "\n",
        "# Draw the square on the image\n",
        "cv2.rectangle(image, tuple(top_left), tuple(bottom_right), generate_random_color(), -1)\n",
        "\n",
        "# Display the image\n",
        "plt.imshow(image)\n",
        "plt.axis('off')\n",
        "plt.show()"
      ]
    },
    {
      "cell_type": "markdown",
      "metadata": {
        "id": "MOb-BMntQ4Mk"
      },
      "source": [
        "Display the circle image"
      ]
    },
    {
      "cell_type": "code",
      "execution_count": null,
      "metadata": {
        "colab": {
          "base_uri": "https://localhost:8080/",
          "height": 406
        },
        "id": "VEeoHl8TGQmX",
        "outputId": "6e67e810-d9b4-4c19-8f85-1e17257512a4"
      },
      "outputs": [
        {
          "data": {
            "image/png": "[encoded data removed]",
            "text/plain": [
              "<Figure size 640x480 with 1 Axes>"
            ]
          },
          "metadata": {},
          "output_type": "display_data"
        }
      ],
      "source": [
        "# Create a blank white image\n",
        "image = np.ones((image_size[0], image_size[1], 3), dtype=np.uint8) * 255\n",
        "\n",
        "# Generate random center and radius for the circle\n",
        "center = np.random.randint(70, image_size[0] - 150, size=2)\n",
        "radius = np.random.randint(50, min(image_size[0], image_size[1]) // 2 - 50)\n",
        "\n",
        "# Draw the circle on the image\n",
        "cv2.circle(image, tuple(center), radius, generate_random_color(), -1)\n",
        "\n",
        "\n",
        "plt.imshow(image)\n",
        "plt.axis('off')\n",
        "plt.show()"
      ]
    },
    {
      "cell_type": "markdown",
      "metadata": {
        "id": "ofwL8NZJROJj"
      },
      "source": [
        "Display the triangle image"
      ]
    },
    {
      "cell_type": "code",
      "execution_count": null,
      "metadata": {
        "colab": {
          "base_uri": "https://localhost:8080/",
          "height": 406
        },
        "id": "Q-ngxM2rCfK7",
        "outputId": "5f60fa31-dfcf-40a3-c890-f532dbc33a13"
      },
      "outputs": [
        {
          "data": {
            "image/png": "[encoded data removed]",
            "text/plain": [
              "<Figure size 640x480 with 1 Axes>"
            ]
          },
          "metadata": {},
          "output_type": "display_data"
        }
      ],
      "source": [
        "image = np.ones((image_size[0], image_size[1], 3), dtype=np.uint8) * 255\n",
        "# Generate random coordinates for the triangle vertices\n",
        "pt1 = np.random.randint(10, image_size[0] - 10, size=2)\n",
        "pt2 = np.random.randint(10, image_size[0] - 10, size=2)\n",
        "pt3 = np.random.randint(10, image_size[0] - 10, size=2)\n",
        "\n",
        "# Draw the triangle on the image\n",
        "cv2.drawContours(image, [np.array([pt1, pt2, pt3])], 0, generate_random_color(), -1)\n",
        "\n",
        "\n",
        "# Display the image\n",
        "plt.imshow(image)\n",
        "plt.axis('off')\n",
        "plt.show()"
      ]
    },
    {
      "cell_type": "markdown",
      "metadata": {
        "id": "HWwjr1doVJxk"
      },
      "source": [
        "Combine the labels for all shapes"
      ]
    },
    {
      "cell_type": "code",
      "execution_count": null,
      "metadata": {
        "id": "PmaGnIv_4nlO"
      },
      "outputs": [],
      "source": [
        "# Define the labels for circles, triangles, squares, and hexagons\n",
        "circle_label = 0\n",
        "triangle_label = 1\n",
        "square_label = 2\n",
        "hexagon_label = 3\n",
        "\n",
        "# Generate the corresponding labels for circle, triangle, square, and hexagon datasets\n",
        "y_train_circle = [circle_label] * num_samples\n",
        "y_train_triangle = [triangle_label] * num_samples\n",
        "y_train_square = [square_label] * num_samples\n",
        "y_train_hexagon = [hexagon_label] * num_samples\n",
        "\n",
        "# Combine the labels for all shapes\n",
        "y_train = np.array(y_train_circle + y_train_triangle + y_train_square + y_train_hexagon)\n"
      ]
    },
    {
      "cell_type": "markdown",
      "metadata": {
        "id": "pegd24cYVE5d"
      },
      "source": [
        "Convert labels to one-hot encoding"
      ]
    },
    {
      "cell_type": "code",
      "execution_count": null,
      "metadata": {
        "id": "CF9A99wOU02n"
      },
      "outputs": [],
      "source": [
        "\n",
        "num_classes = 4 # Assuming binary classification (circle vs. triangle)\n",
        "y_train_encoded = to_categorical(y_train, num_classes)\n",
        "\n",
        "# Define the input sequence data\n",
        "num_samples = 4000\n",
        "sequence_length = 20\n",
        "\n",
        "# RNN input sequence data\n",
        "input_sequence_data = np.zeros((num_samples, sequence_length))"
      ]
    },
    {
      "cell_type": "markdown",
      "metadata": {
        "id": "ThqXXIu_UuuK"
      },
      "source": [
        "# Define the CNN component"
      ]
    },
    {
      "cell_type": "markdown",
      "metadata": {
        "id": "pcQpL4MZUncu"
      },
      "source": [
        "It specifies that the incoming data will have a certain shape.\n",
        "shape=(256, 256, 3): The shape argument defines the shape of the input data. \n",
        "In this case, (256, 256, 3) indicates that the input will be a 3-dimensional\n",
        " tensor with a height and width of 256 pixels, and 3 color channels (red, green, and blue).\n"
      ]
    },
    {
      "cell_type": "code",
      "execution_count": null,
      "metadata": {
        "colab": {
          "base_uri": "https://localhost:8080/"
        },
        "id": "emHlHHCtzdY9",
        "outputId": "88c0ae12-7c1a-4ba6-d5c6-15f42a29064f"
      },
      "outputs": [
        {
          "name": "stdout",
          "output_type": "stream",
          "text": [
            "Epoch 1/5\n",
            "50/50 [==============================] - 15s 234ms/step - loss: 379.5964 - accuracy: 0.5306 - val_loss: 3.2226 - val_accuracy: 0.0800\n",
            "Epoch 2/5\n",
            "50/50 [==============================] - 11s 220ms/step - loss: 0.4328 - accuracy: 0.8609 - val_loss: 3.4407 - val_accuracy: 0.0838\n",
            "Epoch 3/5\n",
            "50/50 [==============================] - 11s 220ms/step - loss: 0.1587 - accuracy: 0.9488 - val_loss: 3.7394 - val_accuracy: 0.3575\n",
            "Epoch 4/5\n",
            "50/50 [==============================] - 11s 222ms/step - loss: 0.0727 - accuracy: 0.9803 - val_loss: 4.4395 - val_accuracy: 0.2775\n",
            "Epoch 5/5\n",
            "50/50 [==============================] - 11s 221ms/step - loss: 0.0224 - accuracy: 0.9931 - val_loss: 4.1241 - val_accuracy: 0.3663\n"
          ]
        },
        {
          "data": {
            "text/plain": [
              "<keras.callbacks.History at 0x7f70e731b820>"
            ]
          },
          "execution_count": 133,
          "metadata": {},
          "output_type": "execute_result"
        }
      ],
      "source": [
        "\n",
        "input_image = Input(shape=(256, 256, 3))\n",
        "conv1 = Conv2D(64, (3, 3), activation='relu')(input_image)  # Apply 64 filters of size 3x3 to the input image\n",
        "pool1 = MaxPooling2D(pool_size=(2, 2))(conv1)  # Perform max pooling with a pool size of 2x2\n",
        "conv2 = Conv2D(128, (3, 3), activation='relu')(pool1)  # Apply 128 filters of size 3x3 to the pooled output\n",
        "pool2 = MaxPooling2D(pool_size=(2, 2))(conv2)  # Perform max pooling with a pool size of 2x2\n",
        "flatten = Flatten()(pool2)  # Flatten the output to a 1D vector\n",
        "cnn_output = Dense(256, activation='relu')(flatten)  # Apply a fully connected layer with 256 units and ReLU activation\n"
      ]
    },
    {
      "cell_type": "markdown",
      "metadata": {
        "id": "tfLJhlsjVSZ7"
      },
      "source": [
        "Define the RNN component"
      ]
    },
    {
      "cell_type": "code",
      "execution_count": null,
      "metadata": {
        "id": "s04uzFC2NgY4"
      },
      "outputs": [],
      "source": [
        "\n",
        "input_caption = Input(shape=(20,))\n",
        "embedding_dim = 100\n",
        "vocab_size = 10000\n",
        "embedding = Embedding(vocab_size, embedding_dim)(input_caption)  # Create word embeddings for the caption input\n",
        "lstm = LSTM(256)(embedding)  # Apply LSTM with 256 units to the embedded sequence\n",
        "rnn_output = Dense(256, activation='relu')(lstm)  # Apply a fully connected layer with 256 units and ReLU activation\n"
      ]
    },
    {
      "cell_type": "markdown",
      "metadata": {
        "id": "oc_iJmUsVX0H"
      },
      "source": [
        "Combine the CNN and RNN outputs"
      ]
    },
    {
      "cell_type": "code",
      "execution_count": null,
      "metadata": {
        "id": "pP7A7neONo03"
      },
      "outputs": [],
      "source": [
        "\n",
        "combined = concatenate([cnn_output, rnn_output])  # Concatenate the outputs of the CNN and RNN component\n"
      ]
    },
    {
      "cell_type": "markdown",
      "metadata": {
        "id": "jAwXNHF4VcqB"
      },
      "source": [
        "Add additional layers for prediction"
      ]
    },
    {
      "cell_type": "code",
      "execution_count": null,
      "metadata": {
        "id": "Xl9YyzklVcN6"
      },
      "outputs": [],
      "source": [
        "\n",
        "dense1 = Dense(256, activation='relu')(combined)  # Apply a fully connected layer with 256 units and ReLU activation\n",
        "\n",
        "output = Dense(num_classes, activation='softmax')(dense1)  # Apply a fully connected layer with softmax activation for classification"
      ]
    },
    {
      "cell_type": "markdown",
      "metadata": {
        "id": "viLKV9_cViYu"
      },
      "source": [
        "Create the model"
      ]
    },
    {
      "cell_type": "code",
      "execution_count": null,
      "metadata": {
        "id": "aYSb-X6yNly3"
      },
      "outputs": [],
      "source": [
        "\n",
        "model = Model(inputs=[input_image, input_caption], outputs=output)  # Define the model with input and output layers\n",
        "model.compile(loss='categorical_crossentropy', optimizer='adam', metrics=['accuracy'])  # Compile the model with loss and optimizer"
      ]
    },
    {
      "cell_type": "markdown",
      "metadata": {
        "id": "qa4X8UUZVkv_"
      },
      "source": [
        "Train the model"
      ]
    },
    {
      "cell_type": "code",
      "execution_count": null,
      "metadata": {
        "id": "DErlc0b8N6FU"
      },
      "outputs": [],
      "source": [
        "\n",
        "model.fit([X_train, input_sequence_data], y_train_encoded, batch_size=64, epochs=5, validation_split=0.2)"
      ]
    },
    {
      "cell_type": "markdown",
      "metadata": {
        "id": "Cemg3IHmBZa1"
      },
      "source": [
        "# Make predictions & Interpret the predictions\n"
      ]
    },
    {
      "cell_type": "code",
      "execution_count": 224,
      "metadata": {
        "id": "1T3pwBJCSIE0"
      },
      "outputs": [],
      "source": [
        "\n",
        "# Select 12 random indices for the test images\n",
        "random_indices = np.random.choice(len(X_train), size=12, replace=False)\n",
        "\n",
        "# Create X_test by selecting the images based on the random indices\n",
        "X_test = [X_train[i] for i in random_indices]\n",
        "\n",
        "# Convert the images to a numpy array\n",
        "X_test = np.array(X_test)\n"
      ]
    },
    {
      "cell_type": "markdown",
      "metadata": {
        "id": "aeFKmnw9WHrV"
      },
      "source": [
        "Ploting 12 test images"
      ]
    },
    {
      "cell_type": "code",
      "execution_count": 225,
      "metadata": {
        "colab": {
          "base_uri": "https://localhost:8080/",
          "height": 807
        },
        "id": "D_OIPosoV3uF",
        "outputId": "30979ef1-690c-4c46-d3f3-7ff8882dac61"
      },
      "outputs": [
        {
          "data": {
            "image/png": "[encoded data removed]",
            "text/plain": [
              "<Figure size 1200x800 with 12 Axes>"
            ]
          },
          "metadata": {},
          "output_type": "display_data"
        }
      ],
      "source": [
        "# Reshape the images to have a single channel if needed\n",
        "X_test = X_test.reshape((-1, 256, 256, 3))\n",
        "\n",
        "# Calculate the number of rows and columns for subplots\n",
        "num_images = len(X_test)\n",
        "num_rows = (num_images + 2) // 3  # Round up to the nearest integer\n",
        "num_cols = min(3, num_images)\n",
        "\n",
        "# Create subplots with the specified number of rows and columns\n",
        "fig, axes = plt.subplots(num_rows, num_cols, figsize=(12, 8))\n",
        "\n",
        "# Flatten the axes array if there is only one row or one column\n",
        "if num_rows == 1:\n",
        "    axes = axes.reshape(1, -1)\n",
        "if num_cols == 1:\n",
        "    axes = axes.reshape(-1, 1)\n",
        "\n",
        "# Plot the images in subplots\n",
        "for i, image in enumerate(X_test):\n",
        "    row_idx = i // num_cols\n",
        "    col_idx = i % num_cols\n",
        "    axes[row_idx, col_idx].imshow(image)\n",
        "    axes[row_idx, col_idx].axis('off')\n",
        "\n",
        "# Adjust the spacing between subplots\n",
        "fig.tight_layout()\n",
        "\n",
        "# Show the plot\n",
        "plt.show()"
      ]
    },
    {
      "cell_type": "markdown",
      "metadata": {
        "id": "8r_Qc2fRWTlK"
      },
      "source": [
        "Print Predicted 12 image labels "
      ]
    },
    {
      "cell_type": "code",
      "execution_count": 226,
      "metadata": {
        "colab": {
          "base_uri": "https://localhost:8080/"
        },
        "id": "fKpZGN0WV8fk",
        "outputId": "b985706f-0976-4d26-e5ca-94f2e6664e5c"
      },
      "outputs": [
        {
          "name": "stdout",
          "output_type": "stream",
          "text": [
            "1/1 [==============================] - 0s 26ms/step\n",
            "Hexagon\n",
            "Triangle\n",
            "Triangle\n",
            "Square\n",
            "Circle\n",
            "Circle\n",
            "Square\n",
            "Circle\n",
            "Triangle\n",
            "Circle\n",
            "Circle\n",
            "Triangle\n"
          ]
        }
      ],
      "source": [
        "\n",
        "# Select the corresponding input sequences based on the random indices\n",
        "input_sequence_test = input_sequence_data[random_indices]\n",
        "\n",
        "# Make predictions using the composite model\n",
        "predictions = model.predict([X_test, input_sequence_test])\n",
        "\n",
        "# Convert the predictions to class labels\n",
        "predicted_labels = np.argmax(predictions, axis=1)\n",
        "\n",
        "# Define a dictionary to map class labels to their corresponding names\n",
        "class_labels = {\n",
        "    0: \"Circle\",\n",
        "    1: \"Triangle\",\n",
        "    2: \"Square\",\n",
        "    3: \"Hexagon\"\n",
        "}\n",
        "\n",
        "# Print the predicted labels with their corresponding class names\n",
        "for label in predicted_labels:\n",
        "    print(class_labels[label])"
      ]
    },
    {
      "cell_type": "markdown",
      "metadata": {
        "id": "iGTPQiVxWp0H"
      },
      "source": [
        "In conclusion, in one case, the model made a mistake by misclassifying a hexagon as a triangle. This suggests that the model might have encountered some difficulty in distinguishing between the two shapes or the specific characteristics of the given hexagon image might have caused confusion.\n",
        "\n",
        "While the model's overall accuracy was high, this misclassification highlights the importance of further refining the model to improve its performance on challenging cases. Possible avenues for improvement include increasing the size and diversity of the training dataset, adjusting the model architecture or hyperparameters, or employing advanced techniques such as data augmentation or transfer learning.\n",
        "\n",
        "Despite this single misclassification, the project demonstrates the potential of composite artificial neural networks in predicting shapes based on image data and accompanying input sequences. With further refinement and optimization, this model can serve as a valuable tool in shape classification tasks, aiding in various applications ranging from object recognition to computer vision tasks."
      ]
    }
  ],
  "metadata": {
    "accelerator": "GPU",
    "colab": {
      "gpuType": "T4",
      "provenance": []
    },
    "kernelspec": {
      "display_name": "Python 3",
      "name": "python3"
    },
    "language_info": {
      "name": "python"
    }
  },
  "nbformat": 4,
  "nbformat_minor": 0
}
